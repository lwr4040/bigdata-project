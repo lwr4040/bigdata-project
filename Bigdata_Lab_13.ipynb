{
  "nbformat": 4,
  "nbformat_minor": 0,
  "metadata": {
    "colab": {
      "name": "Bigdata_Lab_13.ipynb",
      "provenance": [],
      "collapsed_sections": [
        "9cchVL5v_E7X",
        "K81v1t7oIdrz",
        "bvjPzcZroydM",
        "C0Wty8CYu_l_"
      ]
    },
    "kernelspec": {
      "name": "ir",
      "display_name": "R"
    }
  },
  "cells": [
    {
      "cell_type": "markdown",
      "metadata": {
        "id": "NqwIc2xhQqLu"
      },
      "source": [
        "# **빅데이터 개론 Lab 13 - 랜덤 포레스트(Random Forests)**\n",
        "\n",
        "참고자료 : https://www.notion.so/TA-2689a38b5289413a82671d3956fea103\n",
        "\n",
        "- - -\n",
        "\n",
        "\n"
      ]
    },
    {
      "cell_type": "markdown",
      "metadata": {
        "id": "9cchVL5v_E7X"
      },
      "source": [
        "### **<앙상블 모델 (Ensemble model)>**\n",
        "\n",
        "  * 앙상블(ensemble) 모델은 여러 개의 분류 모델에 의한 결과를 종합하여 분류의 정확도를 높이는 방법이다.\n",
        "  * 여러 개의 모델을 합쳐 일반화 성능 향상 : 대중의 지혜(Wisdom of Crowd)\n",
        "  * 표본추출법으로 원래 데이터에서 여러 개의 훈련용 데이터 집합을 만들어 각각의 데이터 집합에서 하나의 분류기를 만들어 앙상블 하는 방법이다. \n",
        "  * 새로운 자료에 대해 각 분류기의 예측값들의 가중 투표(weighted vote) 등을 통해 분류를 수행한다.\n",
        "\n",
        "<br>\n",
        "\n",
        "<p align=\"center\"><img src=\"https://github.com/Jin0331/TA/blob/master/image/ensemble_1.png?raw=true\" width=\"425\"/> <img src=\"https://github.com/Jin0331/TA/blob/master/image/ensemble_2.png?raw=true\" width=\"425\"/></p>\n",
        "\n",
        "\n",
        "* **개별 모형과 비교한 앙상블 모델의 장점**\n",
        "  * 치우침이 있는 여러 모형의 평균을 취하면, 어느 쪽에도 치우치지 않는 결과(평균)를 얻게 된다.\n",
        "  * 분산을 감소시킨다: 한 개 모형으로부터의 단일 의견보다 여러 모형의 의견을 결합하면 변동이 작아진다.\n",
        "  * 과적합의 가능성을 줄여준다: 각 모형으로부터 예측을 결합하면 과적합의 여지가 줄어든다.\n",
        "\n",
        "* **앙상블 방법**\n",
        "\n",
        "  * **배깅 (bagging) : 중복을 허용하는 샘플링**\n",
        "  * **부스팅(boosting) : 이전 예측기의 오차를 보완해서 샘플링**\n",
        "  * ~~페이스팅(pasting) : 중복을 허용하지 않는 샘플링~~\n",
        "  * ~~스태킹(stacking) : 앙상블 결과 위에 예측을 위한 모델 추가~~"
      ]
    },
    {
      "cell_type": "code",
      "metadata": {
        "id": "UaSMHuq0DHaE"
      },
      "source": [
        "install.packages(c(\"tidyverse\", \"caret\", \"e1071\", \"ipred\",\"randomForest\"))"
      ],
      "execution_count": null,
      "outputs": []
    },
    {
      "cell_type": "markdown",
      "metadata": {
        "id": "K81v1t7oIdrz"
      },
      "source": [
        "### **앙상블 모델과 비교하기 위한 Decision Tree 생성 - Heart Disease Data이용** \n",
        "\n",
        "https://archive.ics.uci.edu/ml/datasets/heart+disease\n",
        "\n",
        "* 변수 설명\n",
        "\n",
        "```\n",
        "Age : age in years\n",
        "Sex: sex (1 = male; 0 = female) # Factor\n",
        "ChestPain : (typical angina, atypical angina, non-anginal pain, asymptomatic # Factor\n",
        "RestBP(혈압) : resting blood pressure\n",
        "Chol(콜레스테롤 수치) : serum cholestoral in mg/dl\n",
        "Fbs(혈당) : (fasting blood sugar > 120 mg/dl) (1 = true; 0 = false) # Factor\n",
        "Restecg(심전도) : (0 = normal, 1 = having ST-T wave abnormality, 2 =  showing probable or definite left ventricular hypertrophy by Estes' criteria) # Factor\n",
        "MaxHR : maximum heart rate achieved\n",
        "ExAng(협심증?): exercise induced angina (1 = yes; 0 = no) # Factor\n",
        "Oldpeak = ST depression induced by exercise relative to rest\n",
        "Slope: the slope of the peak exercise ST segment(1 = upsloping, 2 = flat, 3 = downsloping) # Factor\n",
        "Ca: number of major vessels (0-3) colored by flourosopy # Factor\n",
        "Thal: 3 = normal; 6 = fixed defect; 7 = reversable defect # Factor\n",
        "\n",
        "# the predicted attribute(반응변수)\n",
        "\n",
        "AHD : diagnosis of heart disease (angiographic disease status)(0 = < 50% diameter narrowing, 1 =  > 50% diameter narrowing)\n",
        "\n",
        "# http://archive.ics.uci.edu/ml/datasets/heart+Disease\n",
        "```\n"
      ]
    },
    {
      "cell_type": "code",
      "metadata": {
        "id": "9aXaw7nNIdr0"
      },
      "source": [
        "library(tidyverse)\n",
        "heart_df <- read_csv(\"https://raw.githubusercontent.com/Jin0331/TA/master/data/heart/Heart.csv\") \n",
        "str(heart_df)"
      ],
      "execution_count": null,
      "outputs": []
    },
    {
      "cell_type": "markdown",
      "metadata": {
        "id": "iZwISFuUIdr1"
      },
      "source": [
        "* mutate를 이용한 데이터 타입 변경(int or chr ---> factor)"
      ]
    },
    {
      "cell_type": "code",
      "metadata": {
        "id": "dT59jV8VIdr1"
      },
      "source": [
        "heart_df <- heart_df %>% \n",
        " mutate_at(`.vars` = c(\"Sex\", \"ChestPain\", \"Fbs\", \"RestECG\", \"ExAng\", \"Slope\", \"Ca\", \"Thal\", \"AHD\"), `.funs` = as.factor)\n",
        "heart_df %>% str()"
      ],
      "execution_count": null,
      "outputs": []
    },
    {
      "cell_type": "markdown",
      "metadata": {
        "id": "inoN3LSVIdr1"
      },
      "source": [
        "* **train-test split**"
      ]
    },
    {
      "cell_type": "code",
      "metadata": {
        "id": "eapZTUmGIdr1"
      },
      "source": [
        "library(caret) \n",
        "set.seed(31)\n",
        "index <- createDataPartition(y = heart_df$AHD, p = 0.7, list = FALSE) \n",
        "train <- heart_df[index, ]\n",
        "test <- heart_df[-index, ]"
      ],
      "execution_count": null,
      "outputs": []
    },
    {
      "cell_type": "markdown",
      "metadata": {
        "id": "wU5hwku7Kq78"
      },
      "source": [
        "* Decision Tree Model 생성"
      ]
    },
    {
      "cell_type": "code",
      "metadata": {
        "id": "UJTkREfWIdr1"
      },
      "source": [
        "library(rpart)\n",
        "AHD_detection <- rpart(formula = AHD ~ ., data = train, method = \"class\")"
      ],
      "execution_count": null,
      "outputs": []
    },
    {
      "cell_type": "markdown",
      "metadata": {
        "id": "2OX6QrugIdr2"
      },
      "source": [
        "  - xerror(cross validation error)가 최소가 되는 CP를 선택"
      ]
    },
    {
      "cell_type": "code",
      "metadata": {
        "id": "5xQYYNYBIdr2"
      },
      "source": [
        "min_xerror_cp <- AHD_detection$cptable %>% as_tibble() %>%\n",
        "  filter(xerror == min(xerror)) %>% pull(CP)"
      ],
      "execution_count": null,
      "outputs": []
    },
    {
      "cell_type": "code",
      "metadata": {
        "id": "Uwo8RXuQIdr2"
      },
      "source": [
        "min_xerror_cp"
      ],
      "execution_count": null,
      "outputs": []
    },
    {
      "cell_type": "markdown",
      "metadata": {
        "id": "IUH5T8l1Idr2"
      },
      "source": [
        "* prune"
      ]
    },
    {
      "cell_type": "code",
      "metadata": {
        "id": "SCeiSnb7Idr2"
      },
      "source": [
        "AHD_detection_pr <- rpart::prune(AHD_detection, cp = min_xerror_cp)"
      ],
      "execution_count": null,
      "outputs": []
    },
    {
      "cell_type": "markdown",
      "metadata": {
        "id": "6J9VmChkIdr2"
      },
      "source": [
        "* **test를 이용한 예측 및 평가**"
      ]
    },
    {
      "cell_type": "code",
      "metadata": {
        "id": "OV9fcvx6Idr3"
      },
      "source": [
        "test %>% show()"
      ],
      "execution_count": null,
      "outputs": []
    },
    {
      "cell_type": "code",
      "metadata": {
        "id": "LpPKhXxMIdr3"
      },
      "source": [
        "predict_value <- predict(AHD_detection_pr, test, type = \"class\") %>% \n",
        " tibble(predict_value = .)\n",
        "predict_check <- test %>% select(AHD) %>% dplyr::bind_cols(., predict_value) "
      ],
      "execution_count": null,
      "outputs": []
    },
    {
      "cell_type": "code",
      "metadata": {
        "id": "RuxlQe0cIdr3"
      },
      "source": [
        "cm <- caret::confusionMatrix(predict_value$predict_value, test$AHD)\n",
        "draw_confusion_matrix(cm)"
      ],
      "execution_count": null,
      "outputs": []
    },
    {
      "cell_type": "markdown",
      "metadata": {
        "id": "XZewIYwGDIlO"
      },
      "source": [
        "#### **배깅(Bagging)**\n",
        "\n",
        "* 배깅(bagging) : ``중복``을 허용하는 샘플링. Bootstrap Aggregation의 줄임말\n",
        "  * *통계학에서는 중복을 허용하는 샘플링을 부트스트래핑(bootstrapping)이라고 함*\n",
        "\n",
        "* 배깅은 중복 추출 방법을 사용하기 때문에 같은 데이터가 한 데이터셋에  여러 번 추출될 수도 있고, 어떤 데이터는 추출되지 않을 수도 있다.\n",
        "\n",
        "* 데이터가 충분히 큰 경우, 각 데이터가 하나의 붓스트랩 표본에서 제외될 확률은 36.78%이다\n",
        "\n",
        "<br>\n",
        "\n",
        "<p align=\"center\"><img src=\"https://img1.daumcdn.net/thumb/R1280x0/?scode=mtistory2&fname=https%3A%2F%2Fblog.kakaocdn.net%2Fdn%2FbTZVqu%2Fbtqw4oKck4I%2FKbO0ih5GDB5qP2HNtUsGa0%2Fimg.png\" width=\"600\"/> \n",
        "\n",
        "<p align=\"center\"><img src=\"https://img1.daumcdn.net/thumb/R1280x0/?scode=mtistory2&fname=https%3A%2F%2Fblog.kakaocdn.net%2Fdn%2FReb8Q%2Fbtqw5gkMnjn%2FaWVHsgQihxY7wmaNEN8Ay0%2Fimg.jpg\" width=\"600\"/> "
      ]
    },
    {
      "cell_type": "markdown",
      "metadata": {
        "id": "JxP_dT8TOhBP"
      },
      "source": [
        "* bagging\n",
        "\n",
        "<p align=\"center\"><img src=\"https://github.com/Jin0331/TA/blob/master/image/bagging.png?raw=true\" width=\"600\"/></p>\n"
      ]
    },
    {
      "cell_type": "code",
      "metadata": {
        "id": "wBIFMVWfGg86"
      },
      "source": [
        "library(ipred)"
      ],
      "execution_count": null,
      "outputs": []
    },
    {
      "cell_type": "code",
      "metadata": {
        "id": "Wu-ixZsPGysE"
      },
      "source": [
        "set.seed(66)\n",
        "AHD_bagging <- ipred::bagging(AHD ~ ., data = train, nbagg = 100)"
      ],
      "execution_count": null,
      "outputs": []
    },
    {
      "cell_type": "code",
      "metadata": {
        "id": "WA5E_aRLbxCO"
      },
      "source": [
        "predict_value <- predict(AHD_bagging, test, type = \"class\") %>% \n",
        " tibble(predict_value = .)\n",
        "predict_check <- test %>% select(AHD) %>% dplyr::bind_cols(., predict_value) "
      ],
      "execution_count": null,
      "outputs": []
    },
    {
      "cell_type": "code",
      "metadata": {
        "id": "9hleaP3Mb1NT"
      },
      "source": [
        "cm <- caret::confusionMatrix(predict_value$predict_value, test$AHD)\n",
        "draw_confusion_matrix(cm)"
      ],
      "execution_count": null,
      "outputs": []
    },
    {
      "cell_type": "markdown",
      "metadata": {
        "id": "EoSbz05HVrE9"
      },
      "source": [
        "#### **부스팅(Boosting)**\n",
        "\n",
        "* 부스팅(Boosting) : 약한 학습기를 여러 개 연결해서 강한 학습기를 만드는 앙상블 방법\n",
        "   * 앞 모델을 보완해 나가도록 모델을 학습하여 연결해 나감\n",
        "   * AdaBoost (Adpative Boosting), Gradient Boosting 이 있음\n",
        "\n",
        "<br>\n",
        "\n",
        "<p align=\"center\"><img src=\"https://github.com/Jin0331/TA/blob/master/image/boosting.png?raw=true\" width=\"450\"/></p>"
      ]
    },
    {
      "cell_type": "code",
      "metadata": {
        "id": "2OLVWOSvVqK3"
      },
      "source": [
        "install.packages(\"adabag\")\n",
        "library(adabag)"
      ],
      "execution_count": null,
      "outputs": []
    },
    {
      "cell_type": "code",
      "metadata": {
        "id": "-Pd8CKgPdLQi"
      },
      "source": [
        "# Facotr 변수 존재하면 적용 안 되는 듯..\n",
        "AHD_boost <- adabag::boosting(AHD ~ ., data = train)"
      ],
      "execution_count": null,
      "outputs": []
    },
    {
      "cell_type": "markdown",
      "metadata": {
        "id": "bvjPzcZroydM"
      },
      "source": [
        "### **<랜덤 포레스트(Random Forests)>**\n",
        "\n",
        "* 랜덤포레스트(random forest)는 배깅에 랜덤과정(설명변수)을 추가한 방법이다.\n",
        "* 원래 트레이닝  자료로부터 붓스트랩 샘플을 추출하고, 각 붓스트랩 샘플에 대해 트리를 형성해 나가는 과정은 배깅과 유사하나, 각 노드마다 모든 예측변수 안에서 최적의 분할(split)을 선택하는 방법 대신 예측변수들을 임의로 추출하고, 추출된 변수 내에서 최적의 분할을 만들어 나가는 방법을 사용한다.\n",
        "* 새로운 자료에 대한 예측은 분류(classification)의 경우는 다수결(majority votes)로, 회귀(regression)의 경우에는 평균을 취하는 방법을 사용한다.\n",
        "\n",
        "<br>\n",
        "\n",
        "<p align=\"center\"><img src=\"https://github.com/Jin0331/TA/blob/master/image/random_forests.jpg?raw=true\" width=\"550\"></p>\n"
      ]
    },
    {
      "cell_type": "markdown",
      "metadata": {
        "id": "CewG_Xwi_NRv"
      },
      "source": [
        "* __배깅과 랜덤 포레스트의 차이?__\n",
        "  * 배깅의 일종. 배깅과 다른 점은, ``'설명변수'도 무작위로 선택``. 즉, 설명변수를 무작위로 선택함으로써, 트리의 다양성을 확보하여 모형간의 상관관계를 줄이고자 하는 것\n",
        "\n"
      ]
    },
    {
      "cell_type": "code",
      "metadata": {
        "id": "QIW_-DMjGx20"
      },
      "source": [
        "#install.packages(\"randomForest\")\n",
        "library(randomForest)"
      ],
      "execution_count": null,
      "outputs": []
    },
    {
      "cell_type": "code",
      "metadata": {
        "id": "M2YGTVsbgEqM"
      },
      "source": [
        "summary(train)"
      ],
      "execution_count": null,
      "outputs": []
    },
    {
      "cell_type": "code",
      "metadata": {
        "id": "jIFo8_2rf0In"
      },
      "source": [
        "AHD_RF <- randomForest(AHD ~ . -X1, data = train, na.action = na.omit, importance = T, mtry = 7, ntree = 1000)\n",
        "AHD_RF"
      ],
      "execution_count": null,
      "outputs": []
    },
    {
      "cell_type": "markdown",
      "metadata": {
        "id": "mFecNzYxk8ID"
      },
      "source": [
        "* mtry 골드 스탠다드(gold standard) : sqrt(설명변수 개수)"
      ]
    },
    {
      "cell_type": "code",
      "metadata": {
        "id": "MKz56-W5kP9p"
      },
      "source": [
        "mtry_sqrt <- train %>% select(-X1, -AHD) %>% colnames() %>%\n",
        " length() %>% sqrt() %>% floor()\n",
        "\n",
        "mtry_sqrt"
      ],
      "execution_count": null,
      "outputs": []
    },
    {
      "cell_type": "code",
      "metadata": {
        "id": "nkFN9PFgkz2I"
      },
      "source": [
        "set.seed(52)\n",
        "AHD_RF <- randomForest(AHD ~ . -X1, data = train, na.action = na.omit, importance = T, mtry = mtry_sqrt, ntree = 1000)\n",
        "AHD_RF"
      ],
      "execution_count": null,
      "outputs": []
    },
    {
      "cell_type": "code",
      "metadata": {
        "id": "mztcWYuFgelj"
      },
      "source": [
        "varImpPlot(AHD_RF, type=2, pch=19, col=1, cex=1, main=\"\")"
      ],
      "execution_count": null,
      "outputs": []
    },
    {
      "cell_type": "code",
      "metadata": {
        "id": "8Noy6MkTiWv2"
      },
      "source": [
        "plot(AHD_RF)\n",
        "legend(x = 750, y = 0.34, c(\"no\", \"yes\", \"mean\"), col = c(\"pink\", \"green\", \"black\"), pch = c(1,1,1), cex = 1.3)"
      ],
      "execution_count": null,
      "outputs": []
    },
    {
      "cell_type": "markdown",
      "metadata": {
        "id": "d5gLBdXDwmFH"
      },
      "source": [
        "* 예측 및 평가"
      ]
    },
    {
      "cell_type": "code",
      "metadata": {
        "id": "zQ7mkC0SwniK"
      },
      "source": [
        "predict_value <- predict(AHD_RF, test, type = \"class\") %>% \n",
        " tibble(predict_value = .)\n",
        "predict_check <- test %>% select(AHD) %>% dplyr::bind_cols(., predict_value) "
      ],
      "execution_count": null,
      "outputs": []
    },
    {
      "cell_type": "code",
      "metadata": {
        "id": "ioP1QfViwpvn"
      },
      "source": [
        "cm <- caret::confusionMatrix(predict_value$predict_value, test$AHD)\n",
        "draw_confusion_matrix(cm)"
      ],
      "execution_count": null,
      "outputs": []
    },
    {
      "cell_type": "markdown",
      "metadata": {
        "id": "XUaaa7ISStc_"
      },
      "source": [
        "- - -\n",
        "\n",
        "#### **B. titanic**"
      ]
    },
    {
      "cell_type": "markdown",
      "metadata": {
        "id": "mK3ksBrkxgc_"
      },
      "source": [
        "* https://www.kaggle.com/c/titanic/data\n",
        "\n",
        "**<kaggle의 타이타닉 data>**\n",
        "\n",
        "  * survived : 생존=1, 죽음=0\n",
        "  * pclass : 승객 등급. 1등급=1, 2등급=2, 3등급=3\n",
        "  * sibsp : 함께 탑승한 형제 또는 배우자 수\n",
        "  * parch : 함께 탑승한 부모 또는 자녀 수\n",
        "  * ticket : 티켓 번호\n",
        "  * cabin : 선실 번호\n",
        "  * embarked : 탑승장소 S=Southhampton, C=Cherbourg, Q=Queenstown"
      ]
    },
    {
      "cell_type": "code",
      "metadata": {
        "id": "nWoKtbMKrJ_O",
        "cellView": "both"
      },
      "source": [
        "train <- read_csv(\"https://raw.githubusercontent.com/Jin0331/TA/master/data/titanic/train.csv\")"
      ],
      "execution_count": null,
      "outputs": []
    },
    {
      "cell_type": "code",
      "metadata": {
        "id": "FoUcmHWIxf8A",
        "cellView": "both"
      },
      "source": [
        "str(train)"
      ],
      "execution_count": null,
      "outputs": []
    },
    {
      "cell_type": "code",
      "metadata": {
        "id": "cY1odydB16zG",
        "cellView": "both"
      },
      "source": [
        "train %>% summary()"
      ],
      "execution_count": null,
      "outputs": []
    },
    {
      "cell_type": "markdown",
      "metadata": {
        "id": "hg-bZnUDozhW"
      },
      "source": [
        "* 범주형 변수 확인"
      ]
    },
    {
      "cell_type": "code",
      "metadata": {
        "id": "D440rnZU2JSb",
        "cellView": "both"
      },
      "source": [
        "train <- train %>% \n",
        " select(-PassengerId, -Name, -Cabin, -Ticket) %>% mutate_at(c(\"Survived\",\"Sex\",\"Embarked\", \"Pclass\"), factor)\n",
        "summary(train)"
      ],
      "execution_count": null,
      "outputs": []
    },
    {
      "cell_type": "markdown",
      "metadata": {
        "id": "ntcsCge-tBt-"
      },
      "source": [
        "* Hmisc::impute을 이용한 NA 값 대체(평균, 중앙값, 특정 숫자)\n",
        "\n",
        "* https://m.blog.naver.com/PostView.nhn?blogId=tjdudwo93&logNo=221142961499&proxyReferer=https:%2F%2Fwww.google.com%2F"
      ]
    },
    {
      "cell_type": "code",
      "metadata": {
        "id": "rQa6PCWisH1y"
      },
      "source": [
        "install.packages(\"Hmisc\")"
      ],
      "execution_count": null,
      "outputs": []
    },
    {
      "cell_type": "code",
      "metadata": {
        "id": "P6QTZq24vNGz"
      },
      "source": [
        "library(Hmisc)\n",
        "train$Age <- impute(train$Age, median)"
      ],
      "execution_count": null,
      "outputs": []
    },
    {
      "cell_type": "code",
      "metadata": {
        "id": "4VYjGpBq0dbo"
      },
      "source": [
        "train %>% summary()"
      ],
      "execution_count": null,
      "outputs": []
    },
    {
      "cell_type": "code",
      "metadata": {
        "id": "tivXsaif3NS6"
      },
      "source": [
        "train <- train %>% na.omit()"
      ],
      "execution_count": null,
      "outputs": []
    },
    {
      "cell_type": "code",
      "metadata": {
        "id": "t08Gixc-ESqw"
      },
      "source": [
        "train %>% summary()"
      ],
      "execution_count": null,
      "outputs": []
    },
    {
      "cell_type": "markdown",
      "metadata": {
        "id": "MuMWArUy_sAw"
      },
      "source": [
        "* **train을 이용한 Random Forests 모델 생성**"
      ]
    },
    {
      "cell_type": "code",
      "metadata": {
        "id": "mDJZEgS7dox6"
      },
      "source": [
        "mtry_sqrt <- train %>% select(-Survived) %>% colnames() %>%\n",
        " length() %>% sqrt() %>% floor()\n",
        "mtry_sqrt"
      ],
      "execution_count": null,
      "outputs": []
    },
    {
      "cell_type": "code",
      "metadata": {
        "id": "vdTlp-6A09aR"
      },
      "source": [
        "# set.seed(29)\n",
        "model <- randomForest(Survived ~ ., data = train,importance = T, mtry = mtry_sqrt, ntree = 1000)\n",
        "model"
      ],
      "execution_count": null,
      "outputs": []
    },
    {
      "cell_type": "markdown",
      "metadata": {
        "id": "wkNyAWeo2A0Q"
      },
      "source": [
        "* caret과 e1071 패키지를 이용한 grid search\n",
        "\n",
        "https://www.guru99.com/r-random-forest-tutorial.html"
      ]
    },
    {
      "cell_type": "markdown",
      "metadata": {
        "id": "f09w71hX2ft7"
      },
      "source": [
        "* Default setting : K-fold cross validation is controlled by the trainControl() function\n",
        "\n",
        "```\n",
        "trainControl(method = \"cv\", number = n, search =\"grid\")\n",
        "arguments\n",
        "- method = \"cv\": The method used to resample the dataset. \n",
        "- number = n: Number of folders to create\n",
        "- search = \"grid\": Use the search grid method. For randomized method, use \"grid\"\n",
        "Note: You can refer to the vignette to see the other arguments of the function.\n",
        "```"
      ]
    },
    {
      "cell_type": "code",
      "metadata": {
        "id": "rvcgVxHm2HhT"
      },
      "source": [
        "# Define the control\n",
        "trControl <- trainControl(method = \"cv\", number = 10, search = \"grid\")"
      ],
      "execution_count": null,
      "outputs": []
    },
    {
      "cell_type": "markdown",
      "metadata": {
        "id": "cGUuDQFc20eN"
      },
      "source": [
        "* Default setting:he build the model with the default values\n",
        "  * parameter를 따로 지정하지 않는다면, default로 mtry에 대한 grid search"
      ]
    },
    {
      "cell_type": "code",
      "metadata": {
        "id": "VMwBRCzn27e5"
      },
      "source": [
        "# Run the model\n",
        "rf_default <- train(Survived~., data = train, method = \"rf\", metric = \"Accuracy\", trControl = trControl)\n",
        "# Print the results\n",
        "print(rf_default)"
      ],
      "execution_count": null,
      "outputs": []
    },
    {
      "cell_type": "markdown",
      "metadata": {
        "id": "Ju7kgVu43lH1"
      },
      "source": [
        "* Search best mtry"
      ]
    },
    {
      "cell_type": "code",
      "metadata": {
        "id": "AY4F6FH13kC1"
      },
      "source": [
        "tuneGrid <- expand.grid(.mtry = c(2: 6)) # 변수개수 7개. \n",
        "rf_mtry <- train(Survived~.,\n",
        "    data = train, method = \"rf\",\n",
        "    metric = \"Accuracy\", tuneGrid = tuneGrid,\n",
        "    trControl = trControl, importance = T, ntree = 1000)\n",
        "print(rf_mtry)"
      ],
      "execution_count": null,
      "outputs": []
    },
    {
      "cell_type": "code",
      "metadata": {
        "id": "WzjKfdty4Wkz"
      },
      "source": [
        "best_mtry <- rf_mtry$bestTune$mtry\n",
        "best_mtry"
      ],
      "execution_count": null,
      "outputs": []
    },
    {
      "cell_type": "markdown",
      "metadata": {
        "id": "g5Bmb97V4bqV"
      },
      "source": [
        "* best ntree"
      ]
    },
    {
      "cell_type": "code",
      "metadata": {
        "id": "nQlWEzBd4eBS"
      },
      "source": [
        "tuneGrid <- expand.grid(.mtry = best_mtry)\n",
        "store_maxtrees <- list()\n",
        "for (ntree in c(250, 300, 350, 400, 450, 500, 550, 600, 800, 1000, 2000)) {\n",
        "    set.seed(51)\n",
        "    rf_maxtrees <- train(Survived~.,\n",
        "        data = train,\n",
        "        method = \"rf\",\n",
        "        metric = \"Accuracy\",\n",
        "        tuneGrid = tuneGrid,\n",
        "        trControl = trControl,\n",
        "        importance = T,\n",
        "        ntree = ntree)\n",
        "    key <- toString(ntree)\n",
        "    store_maxtrees[[key]] <- rf_maxtrees\n",
        "}\n",
        "results_tree <- resamples(store_maxtrees)\n",
        "summary(results_tree)"
      ],
      "execution_count": null,
      "outputs": []
    },
    {
      "cell_type": "markdown",
      "metadata": {
        "id": "39EkCDAz6zlb"
      },
      "source": [
        "best parameter\n",
        "* mtry = 4\n",
        "* ntree = 300"
      ]
    },
    {
      "cell_type": "code",
      "metadata": {
        "id": "-ZPvNrYu6x3P"
      },
      "source": [
        "set.seed(8)\n",
        "model_grid <- randomForest(Survived ~ ., data = train, importance = T, mtry = 4, ntree = 300)\n",
        "model_grid"
      ],
      "execution_count": null,
      "outputs": []
    },
    {
      "cell_type": "code",
      "metadata": {
        "id": "KnGUo72c1RlJ"
      },
      "source": [
        "plot(model_grid)\n",
        "legend(x = 200, y = 0.35, c(\"Survived:yes(1)\", \"Survived:no(0)\", \"mean\"), col = c(\"green\", \"pink\", \"black\"), pch = c(1,1,1), cex = 1.3)"
      ],
      "execution_count": null,
      "outputs": []
    },
    {
      "cell_type": "markdown",
      "metadata": {
        "id": "vHdOojum5ttT"
      },
      "source": [
        "* 생성한 2개의 Decision Tree 모델을 이용하여 kaggle에 제출 및 평가받기"
      ]
    },
    {
      "cell_type": "code",
      "metadata": {
        "id": "DPOdsGeF5hc_"
      },
      "source": [
        "test <- read_csv(\"https://raw.githubusercontent.com/Jin0331/TA/master/data/titanic/test.csv\")\n",
        "test %>% summary()"
      ],
      "execution_count": null,
      "outputs": []
    },
    {
      "cell_type": "markdown",
      "metadata": {
        "id": "QVF_LY_m6Z2G"
      },
      "source": [
        "* NA 값 추정(median)"
      ]
    },
    {
      "cell_type": "code",
      "metadata": {
        "id": "D_R839Dq5_x3"
      },
      "source": [
        "test$Age <- impute(test$Age, median)\n",
        "test$Fare <- impute(test$Age, median)\n",
        "test %>% summary()"
      ],
      "execution_count": null,
      "outputs": []
    },
    {
      "cell_type": "markdown",
      "metadata": {
        "id": "7Zg-lDK96c87"
      },
      "source": [
        "* 범주형 변수"
      ]
    },
    {
      "cell_type": "code",
      "metadata": {
        "id": "DsOkG9zS6Lbn"
      },
      "source": [
        "test <- test %>% \n",
        " select(-Name, -Cabin, -Ticket) %>% mutate_at(c(\"Sex\",\"Embarked\", \"Pclass\"), factor)\n",
        "summary(test)"
      ],
      "execution_count": null,
      "outputs": []
    },
    {
      "cell_type": "markdown",
      "metadata": {
        "id": "edngjPnL68t_"
      },
      "source": [
        "* 예측(model, model_grid 모델)"
      ]
    },
    {
      "cell_type": "code",
      "metadata": {
        "id": "CT6XoDZj6hvO"
      },
      "source": [
        "# model\n",
        "predict_value <- predict(model, test, type = \"class\") %>% tibble(Survived = .)\n",
        "submission1 <- test %>% select(PassengerId) %>% dplyr::bind_cols(., predict_value)\n",
        "\n",
        "# model_grid\n",
        "predict_value <- predict(model_grid, test, type = \"class\") %>% tibble(Survived = .)\n",
        "submission2 <- test %>% select(PassengerId) %>% dplyr::bind_cols(., predict_value)"
      ],
      "execution_count": null,
      "outputs": []
    },
    {
      "cell_type": "code",
      "metadata": {
        "id": "XUr0DLPPwBiu"
      },
      "source": [
        "submission1 %>% head(20)"
      ],
      "execution_count": null,
      "outputs": []
    },
    {
      "cell_type": "code",
      "metadata": {
        "id": "I1J-epsgu6AQ"
      },
      "source": [
        "submission2 %>% head(20)"
      ],
      "execution_count": null,
      "outputs": []
    },
    {
      "cell_type": "code",
      "metadata": {
        "id": "1otSG2CI7sji"
      },
      "source": [
        " # write\n",
        " submission1 %>% write_csv(path = \"submission1.csv\")\n",
        " submission2 %>% write_csv(path = \"submission2_grid.csv\")"
      ],
      "execution_count": null,
      "outputs": []
    },
    {
      "cell_type": "code",
      "metadata": {
        "id": "ZO5g3AdP8gtz"
      },
      "source": [
        "model_bagg <- ipred::bagging(Survived ~ ., data = train, nbagg = 200)"
      ],
      "execution_count": null,
      "outputs": []
    },
    {
      "cell_type": "code",
      "metadata": {
        "id": "8KCMGYKl8pGa"
      },
      "source": [
        "#@title\n",
        "predict_value <- predict(model_bagg, test, type = \"class\") %>% tibble(Survived = .)\n",
        "submission1 <- test %>% select(PassengerId) %>% dplyr::bind_cols(., predict_value) %>%\n",
        " write_csv(path = \"submission3_bagging.csv\")"
      ],
      "execution_count": null,
      "outputs": []
    },
    {
      "cell_type": "markdown",
      "metadata": {
        "id": "C0Wty8CYu_l_"
      },
      "source": [
        "### Confusion Matrix plot code"
      ]
    },
    {
      "cell_type": "code",
      "metadata": {
        "id": "8qQti-1UkTLM"
      },
      "source": [
        "#https://stackoverflow.com/questions/23891140/r-how-to-visualize-confusion-matrix-using-the-caret-package\n",
        "\n",
        "draw_confusion_matrix <- function(cm) {\n",
        "\n",
        "  total <- sum(cm$table)\n",
        "  res <- as.numeric(cm$table)\n",
        "\n",
        "  # Generate color gradients. Palettes come from RColorBrewer.\n",
        "  greenPalette <- c(\"#F7FCF5\",\"#E5F5E0\",\"#C7E9C0\",\"#A1D99B\",\"#74C476\",\"#41AB5D\",\"#238B45\",\"#006D2C\",\"#00441B\")\n",
        "  redPalette <- c(\"#FFF5F0\",\"#FEE0D2\",\"#FCBBA1\",\"#FC9272\",\"#FB6A4A\",\"#EF3B2C\",\"#CB181D\",\"#A50F15\",\"#67000D\")\n",
        "  getColor <- function (greenOrRed = \"green\", amount = 0) {\n",
        "    if (amount == 0)\n",
        "      return(\"#FFFFFF\")\n",
        "    palette <- greenPalette\n",
        "    if (greenOrRed == \"red\")\n",
        "      palette <- redPalette\n",
        "    colorRampPalette(palette)(100)[10 + ceiling(90 * amount / total)]\n",
        "  }\n",
        "\n",
        "  # set the basic layout\n",
        "  layout(matrix(c(1,1,2)))\n",
        "  par(mar=c(2,2,2,2))\n",
        "  plot(c(100, 345), c(300, 450), type = \"n\", xlab=\"\", ylab=\"\", xaxt='n', yaxt='n')\n",
        "  title('CONFUSION MATRIX', cex.main=2)\n",
        "\n",
        "  # create the matrix \n",
        "  classes = colnames(cm$table)\n",
        "  rect(150, 430, 240, 370, col=getColor(\"green\", res[1]))\n",
        "  text(195, 435, classes[1], cex=1.2)\n",
        "  rect(250, 430, 340, 370, col=getColor(\"red\", res[3]))\n",
        "  text(295, 435, classes[2], cex=1.2)\n",
        "  text(125, 370, 'Predicted', cex=1.3, srt=90, font=2)\n",
        "  text(245, 450, 'Actual', cex=1.3, font=2)\n",
        "  rect(150, 305, 240, 365, col=getColor(\"red\", res[2]))\n",
        "  rect(250, 305, 340, 365, col=getColor(\"green\", res[4]))\n",
        "  text(140, 400, classes[1], cex=1.2, srt=90)\n",
        "  text(140, 335, classes[2], cex=1.2, srt=90)\n",
        "\n",
        "  # add in the cm results\n",
        "  text(195, 400, res[1], cex=1.6, font=2, col='white')\n",
        "  text(195, 335, res[2], cex=1.6, font=2, col='white')\n",
        "  text(295, 400, res[3], cex=1.6, font=2, col='white')\n",
        "  text(295, 335, res[4], cex=1.6, font=2, col='white')\n",
        "\n",
        "  # add in the specifics \n",
        "  plot(c(100, 0), c(100, 0), type = \"n\", xlab=\"\", ylab=\"\", main = \"DETAILS\", xaxt='n', yaxt='n')\n",
        "  text(10, 85, names(cm$byClass[1]), cex=1.2, font=2)\n",
        "  text(10, 70, round(as.numeric(cm$byClass[1]), 3), cex=1.2)\n",
        "  text(30, 85, names(cm$byClass[2]), cex=1.2, font=2)\n",
        "  text(30, 70, round(as.numeric(cm$byClass[2]), 3), cex=1.2)\n",
        "  text(50, 85, names(cm$byClass[5]), cex=1.2, font=2)\n",
        "  text(50, 70, round(as.numeric(cm$byClass[5]), 3), cex=1.2)\n",
        "  text(70, 85, names(cm$byClass[6]), cex=1.2, font=2)\n",
        "  text(70, 70, round(as.numeric(cm$byClass[6]), 3), cex=1.2)\n",
        "  text(90, 85, names(cm$byClass[7]), cex=1.2, font=2)\n",
        "  text(90, 70, round(as.numeric(cm$byClass[7]), 3), cex=1.2)\n",
        "\n",
        "  # add in the accuracy information \n",
        "  text(30, 35, names(cm$overall[1]), cex=1.5, font=2)\n",
        "  text(30, 20, round(as.numeric(cm$overall[1]), 3), cex=1.4)\n",
        "  text(70, 35, names(cm$overall[2]), cex=1.5, font=2)\n",
        "  text(70, 20, round(as.numeric(cm$overall[2]), 3), cex=1.4)\n",
        "}"
      ],
      "execution_count": null,
      "outputs": []
    },
    {
      "cell_type": "code",
      "metadata": {
        "id": "WT0LSBoqo2mW"
      },
      "source": [
        ""
      ],
      "execution_count": null,
      "outputs": []
    }
  ]
}
{
  "nbformat": 4,
  "nbformat_minor": 0,
  "metadata": {
    "colab": {
      "name": "Bigdata_Lab_14ipynb",
      "provenance": [],
      "collapsed_sections": [
        "9cchVL5v_E7X",
        "K81v1t7oIdrz",
        "ePhIDG_Ig0u3",
        "XUaaa7ISStc_",
        "C0Wty8CYu_l_"
      ]
    },
    "kernelspec": {
      "name": "ir",
      "display_name": "R"
    }
  },
  "cells": [
    {
      "cell_type": "markdown",
      "metadata": {
        "id": "NqwIc2xhQqLu"
      },
      "source": [
        "# **빅데이터 개론 Lab 14 - Support Vector Machine(SVM)**\n",
        "\n",
        "참고자료 : https://www.notion.so/TA-2689a38b5289413a82671d3956fea103\n",
        "\n",
        "- - -\n",
        "\n",
        "\n"
      ]
    },
    {
      "cell_type": "markdown",
      "metadata": {
        "id": "9cchVL5v_E7X"
      },
      "source": [
        "### **Support Vector Machine(SVM)**\n",
        "\n",
        "* 분류와 회귀를 수행 가능하며, 딥러닝이 나온 이후에도 여전히 활발히 사용되고 있는 머신 러닝 알고리즘이다. \n",
        "* 분류를 위한 결정 경계 (Decision Boundary) 를  정의하는 모델이다.\n",
        "* 직관적으로 자료를 클래스별로 가장 잘 분리하는 결정 경계는 가장 가까운 훈련용 자료까지의 거리(이를 마진(margin)이라 함)가 가장 큰 경우이며, 마진이 가장 큰 결정 경계를 분류기(classifier)로 사용할 때, 새로운 자료에 대한 오류율이 가장 낮아진다.\n",
        "즉, 최대 마진을 가지는 선형분류별에 기초하며, 속성들 간의 의존성은 고려하지 않는 방법이다.\n",
        "* 서포트 벡터들은 두 클래스 사이의 경계에 위치한 데이터 포인트들을 말한다. 이 데이터들이 결정경계를 지지(support)하고 있다고 말할 수 있으므로 서포트 벡터라고 부른다. \n",
        "\n",
        "<br>\n",
        "\n",
        "<p align=\"center\"><img src=\"https://github.com/Jin0331/TA/blob/master/image/svm1.png?raw=true\" width=\"425\"/> </p>\n",
        "\n",
        "<br>\n",
        "\n",
        "* 선형분류 뿐 아니라, 커널 트릭(kernel trick)이라 불리는 다차원 공간상으로의 맵핑(mapping) 기법을 사용하여 비선형분류도 효율적으로 수행한다.\n",
        "\n",
        "<br>\n",
        "\n",
        "<p align=\"center\"><img src=\"https://github.com/Jin0331/TA/blob/master/image/svm2.png?raw=true\" width=\"425\"/> <img src=\"https://github.com/Jin0331/TA/blob/master/image/svm3.png?raw=true\" width=\"425\"/> </p>\n"
      ]
    },
    {
      "cell_type": "markdown",
      "metadata": {
        "id": "m-NaW1Eu25SP"
      },
      "source": [
        "* 커널 트릭 (Kernel Trick)\n",
        "\n",
        "<br>\n",
        "\n",
        "<p align=\"center\"><img src=\"https://github.com/Jin0331/TA/blob/master/image/k_1.png?raw=true\" width=\"300\"/> <img src=\"https://github.com/Jin0331/TA/blob/master/image/k_2.png?raw=true\" width=\"425\"/> </p>\n",
        "\n",
        "<br>\n",
        "\n",
        "* SVM을 수행하는 R 패키지에는 {e1071}, {kernlab}, {klaR}, {svmpath}, {shogun} 등이 있다.\n",
        "이 가운데 {e1071} 패키지가 R에서 가장 먼저 소개되었으며 가장 직관적"
      ]
    },
    {
      "cell_type": "markdown",
      "metadata": {
        "id": "K81v1t7oIdrz"
      },
      "source": [
        "### **SVM 예시**\n"
      ]
    },
    {
      "cell_type": "code",
      "metadata": {
        "id": "UaSMHuq0DHaE"
      },
      "source": [
        "install.packages(c(\"tidyverse\", \"caret\", \"e1071\"))"
      ],
      "execution_count": null,
      "outputs": []
    },
    {
      "cell_type": "markdown",
      "metadata": {
        "id": "ePhIDG_Ig0u3"
      },
      "source": [
        "- - -\n",
        "\n",
        "#### **A. Heart Disease**"
      ]
    },
    {
      "cell_type": "markdown",
      "metadata": {
        "id": "_2D4G5HIhNzj"
      },
      "source": [
        "* https://archive.ics.uci.edu/ml/datasets/heart+disease\n",
        "\n",
        "* 변수 설명\n",
        "\n",
        "```\n",
        "Age : age in years\n",
        "Sex: sex (1 = male; 0 = female) # Factor\n",
        "ChestPain : (typical angina, atypical angina, non-anginal pain, asymptomatic # Factor\n",
        "RestBP(혈압) : resting blood pressure\n",
        "Chol(콜레스테롤 수치) : serum cholestoral in mg/dl\n",
        "Fbs(혈당) : (fasting blood sugar > 120 mg/dl) (1 = true; 0 = false) # Factor\n",
        "Restecg(심전도) : (0 = normal, 1 = having ST-T wave abnormality, 2 =  showing probable or definite left ventricular hypertrophy by Estes' criteria) # Factor\n",
        "MaxHR : maximum heart rate achieved\n",
        "ExAng(협심증?): exercise induced angina (1 = yes; 0 = no) # Factor\n",
        "Oldpeak = ST depression induced by exercise relative to rest\n",
        "Slope: the slope of the peak exercise ST segment(1 = upsloping, 2 = flat, 3 = downsloping) # Factor\n",
        "Ca: number of major vessels (0-3) colored by flourosopy # Factor\n",
        "Thal: 3 = normal; 6 = fixed defect; 7 = reversable defect # Factor\n",
        "\n",
        "# the predicted attribute(반응변수)\n",
        "\n",
        "AHD : diagnosis of heart disease (angiographic disease status)(0 = < 50% diameter narrowing, 1 =  > 50% diameter narrowing)\n",
        "\n",
        "# http://archive.ics.uci.edu/ml/datasets/heart+Disease\n",
        "```"
      ]
    },
    {
      "cell_type": "code",
      "metadata": {
        "id": "9aXaw7nNIdr0"
      },
      "source": [
        "library(tidyverse)\n",
        "heart_df <- read_csv(\"https://raw.githubusercontent.com/Jin0331/TA/master/data/heart/Heart.csv\") \n",
        "str(heart_df)"
      ],
      "execution_count": null,
      "outputs": []
    },
    {
      "cell_type": "markdown",
      "metadata": {
        "id": "iZwISFuUIdr1"
      },
      "source": [
        "* mutate를 이용한 데이터 타입 변경(int or chr ---> factor)"
      ]
    },
    {
      "cell_type": "code",
      "metadata": {
        "id": "dT59jV8VIdr1"
      },
      "source": [
        "heart_df <- heart_df %>% \n",
        " mutate_at(`.vars` = c(\"Sex\", \"ChestPain\", \"Fbs\", \"RestECG\", \"ExAng\", \"Slope\", \"Ca\", \"Thal\", \"AHD\"), `.funs` = as.factor)\n",
        "heart_df %>% str()"
      ],
      "execution_count": null,
      "outputs": []
    },
    {
      "cell_type": "code",
      "metadata": {
        "id": "CX2WjPSDGh69"
      },
      "source": [
        "summary(heart_df)"
      ],
      "execution_count": null,
      "outputs": []
    },
    {
      "cell_type": "code",
      "metadata": {
        "id": "YxAXeXQ-GqqR"
      },
      "source": [
        "heart_df <- heart_df %>% na.omit()"
      ],
      "execution_count": null,
      "outputs": []
    },
    {
      "cell_type": "code",
      "metadata": {
        "id": "1K4MW-xcGtr3"
      },
      "source": [
        "summary(heart_df)"
      ],
      "execution_count": null,
      "outputs": []
    },
    {
      "cell_type": "markdown",
      "metadata": {
        "id": "inoN3LSVIdr1"
      },
      "source": [
        "* **train-test split**"
      ]
    },
    {
      "cell_type": "code",
      "metadata": {
        "id": "eapZTUmGIdr1"
      },
      "source": [
        "library(caret) \n",
        "set.seed(51)\n",
        "index <- createDataPartition(y = heart_df$AHD, p = 0.7, list = FALSE) \n",
        "train <- heart_df[index, ]\n",
        "test <- heart_df[-index, ]"
      ],
      "execution_count": null,
      "outputs": []
    },
    {
      "cell_type": "markdown",
      "metadata": {
        "id": "43ATDZnE5prM"
      },
      "source": [
        "* e1071 package - svm\n",
        "\n",
        "```\n",
        "* type : svm()의 수행 방법(분류, 회귀 또는 novelty detection)을 정한다. 반응변수() 가 범주형인지\n",
        "의 여부에 따라 정해지며, 디폴트는 C-classification 또는 eps-regression 이다. \n",
        "* kernel : 훈련과 예측에 사용되는 커널로, \"radial\" 옵션은 가우시안 RBF를 의미한다. 실제 문제에서 커\n",
        "널의 선택이 결과의 정확도에 큰 영향을 주지는 않는다\n",
        "* gamma : 선형을 제외한 모든 커널에 요구되는 모수로, 디폴트는 1/(데이터 차원) 이다.\n",
        "* cost : 제약 위배의 비용으로, 디폴트는 1 이다.\n",
        "```"
      ]
    },
    {
      "cell_type": "code",
      "metadata": {
        "id": "UJTkREfWIdr1"
      },
      "source": [
        "# rbf\n",
        "svm_AHD <- svm(formula = AHD ~ ., data = train, type = \"C-classification\", kernel = \"radial\")\n",
        "summary(svm_AHD)"
      ],
      "execution_count": null,
      "outputs": []
    },
    {
      "cell_type": "code",
      "metadata": {
        "id": "3MzJN01OEATR"
      },
      "source": [
        "# rbf parameter\n",
        "svm_AHD2 <- svm(formula = AHD ~ ., data = train, type = \"C-classification\", kernel = \"radial\",\n",
        "               cost = 1000, gamma = 0.1)\n",
        "summary(svm_AHD2)"
      ],
      "execution_count": null,
      "outputs": []
    },
    {
      "cell_type": "markdown",
      "metadata": {
        "id": "9llCds3HFE7L"
      },
      "source": [
        "* test를 이용한 예측 및 평가(svm_AHD, svm_AHD2)"
      ]
    },
    {
      "cell_type": "code",
      "metadata": {
        "id": "4MlC9io7GZPR"
      },
      "source": [
        "test %>% show()"
      ],
      "execution_count": null,
      "outputs": []
    },
    {
      "cell_type": "markdown",
      "metadata": {
        "id": "DMGBbrpHHRir"
      },
      "source": [
        "* svm_AHD"
      ]
    },
    {
      "cell_type": "code",
      "metadata": {
        "id": "McY3sO1XEMdJ"
      },
      "source": [
        "predict_value <- predict(svm_AHD, test) %>% \n",
        " tibble(predict_value = .)\n",
        "predict_check <- test %>% select(AHD) %>% dplyr::bind_cols(., predict_value) \n",
        "predict_check %>% show()"
      ],
      "execution_count": null,
      "outputs": []
    },
    {
      "cell_type": "code",
      "metadata": {
        "id": "RuxlQe0cIdr3"
      },
      "source": [
        "cm <- caret::confusionMatrix(predict_value$predict_value, test$AHD)\n",
        "draw_confusion_matrix(cm)"
      ],
      "execution_count": null,
      "outputs": []
    },
    {
      "cell_type": "markdown",
      "metadata": {
        "id": "Px2fp_KjHWKA"
      },
      "source": [
        "* svm_AHD2"
      ]
    },
    {
      "cell_type": "code",
      "metadata": {
        "id": "EWuZG8ZcHVsW"
      },
      "source": [
        "predict_value <- predict(svm_AHD2, test) %>% \n",
        " tibble(predict_value = .)\n",
        "predict_check <- test %>% select(AHD) %>% dplyr::bind_cols(., predict_value) \n",
        "predict_check %>% show()"
      ],
      "execution_count": null,
      "outputs": []
    },
    {
      "cell_type": "code",
      "metadata": {
        "id": "eGYwkY3xHVsX"
      },
      "source": [
        "cm <- caret::confusionMatrix(predict_value$predict_value, test$AHD)\n",
        "draw_confusion_matrix(cm)"
      ],
      "execution_count": null,
      "outputs": []
    },
    {
      "cell_type": "markdown",
      "metadata": {
        "id": "9yK2ooZYHqWD"
      },
      "source": [
        "* tune()\n",
        "  * gamma 범위 : 1e-08 ~ 10\n",
        "  * cost 범위 : 1 ~ 30\n",
        "  * 총 10 * 30 = 300개의 조합"
      ]
    },
    {
      "cell_type": "code",
      "metadata": {
        "id": "zQ7mkC0SwniK"
      },
      "source": [
        "tuned <- tune.svm(AHD ~ ., data = train, gamma = 10^(-8:1), cost = 1:30)"
      ],
      "execution_count": null,
      "outputs": []
    },
    {
      "cell_type": "code",
      "metadata": {
        "id": "oGqTW2PlIo22"
      },
      "source": [
        "tune_summary <- summary(tuned)\n",
        "tune_summary"
      ],
      "execution_count": null,
      "outputs": []
    },
    {
      "cell_type": "code",
      "metadata": {
        "id": "8OFcVr5nJK-0"
      },
      "source": [
        "best_parameter <- tune_summary$best.parameters\n",
        "best_parameter # best_parameter[1,1] == gamma / best_parameter[1,2] == cost"
      ],
      "execution_count": null,
      "outputs": []
    },
    {
      "cell_type": "code",
      "metadata": {
        "id": "4VO3FHdWJ0yf"
      },
      "source": [
        "svm_AHD_tune <- svm(AHD ~ ., data = train, type = \"C-classification\", kernel = \"radial\",\n",
        " gamma = best_parameter[1,1], cost = best_parameter[1,2])"
      ],
      "execution_count": null,
      "outputs": []
    },
    {
      "cell_type": "code",
      "metadata": {
        "id": "vf5Kg-I5KZXS"
      },
      "source": [
        "summary(svm_AHD_tune)"
      ],
      "execution_count": null,
      "outputs": []
    },
    {
      "cell_type": "code",
      "metadata": {
        "id": "hp5Efm-GKVos"
      },
      "source": [
        "predict_value <- predict(svm_AHD_tune, test) %>% \n",
        " tibble(predict_value = .)\n",
        "predict_check <- test %>% select(AHD) %>% dplyr::bind_cols(., predict_value) \n",
        "predict_check %>% show()"
      ],
      "execution_count": null,
      "outputs": []
    },
    {
      "cell_type": "code",
      "metadata": {
        "id": "ioP1QfViwpvn"
      },
      "source": [
        "cm <- caret::confusionMatrix(predict_value$predict_value, test$AHD)\n",
        "draw_confusion_matrix(cm)"
      ],
      "execution_count": null,
      "outputs": []
    },
    {
      "cell_type": "markdown",
      "metadata": {
        "id": "XUaaa7ISStc_"
      },
      "source": [
        "- - -\n",
        "\n",
        "#### **B. titanic**"
      ]
    },
    {
      "cell_type": "markdown",
      "metadata": {
        "id": "mK3ksBrkxgc_"
      },
      "source": [
        "* https://www.kaggle.com/c/titanic/data\n",
        "\n",
        "**<kaggle의 타이타닉 data>**\n",
        "\n",
        "  * survived : 생존=1, 죽음=0\n",
        "  * pclass : 승객 등급. 1등급=1, 2등급=2, 3등급=3\n",
        "  * sibsp : 함께 탑승한 형제 또는 배우자 수\n",
        "  * parch : 함께 탑승한 부모 또는 자녀 수\n",
        "  * ticket : 티켓 번호\n",
        "  * cabin : 선실 번호\n",
        "  * embarked : 탑승장소 S=Southhampton, C=Cherbourg, Q=Queenstown"
      ]
    },
    {
      "cell_type": "code",
      "metadata": {
        "id": "nWoKtbMKrJ_O",
        "cellView": "both"
      },
      "source": [
        "train <- read_csv(\"https://raw.githubusercontent.com/Jin0331/TA/master/data/titanic/train.csv\")"
      ],
      "execution_count": null,
      "outputs": []
    },
    {
      "cell_type": "code",
      "metadata": {
        "id": "FoUcmHWIxf8A",
        "cellView": "both"
      },
      "source": [
        "str(train)"
      ],
      "execution_count": null,
      "outputs": []
    },
    {
      "cell_type": "code",
      "metadata": {
        "id": "cY1odydB16zG",
        "cellView": "both"
      },
      "source": [
        "train %>% summary()"
      ],
      "execution_count": null,
      "outputs": []
    },
    {
      "cell_type": "markdown",
      "metadata": {
        "id": "hg-bZnUDozhW"
      },
      "source": [
        "* 범주형 변수 확인"
      ]
    },
    {
      "cell_type": "code",
      "metadata": {
        "id": "D440rnZU2JSb",
        "cellView": "both"
      },
      "source": [
        "train <- train %>% \n",
        " select(-PassengerId, -Name, -Cabin, -Ticket) %>% mutate_at(c(\"Survived\",\"Sex\",\"Embarked\", \"Pclass\"), factor)\n",
        "summary(train)"
      ],
      "execution_count": null,
      "outputs": []
    },
    {
      "cell_type": "markdown",
      "metadata": {
        "id": "ntcsCge-tBt-"
      },
      "source": [
        "* Hmisc::impute을 이용한 NA 값 대체(평균, 중앙값, 특정 숫자)\n",
        "\n",
        "* https://m.blog.naver.com/PostView.nhn?blogId=tjdudwo93&logNo=221142961499&proxyReferer=https:%2F%2Fwww.google.com%2F"
      ]
    },
    {
      "cell_type": "code",
      "metadata": {
        "id": "rQa6PCWisH1y"
      },
      "source": [
        "install.packages(\"Hmisc\")"
      ],
      "execution_count": null,
      "outputs": []
    },
    {
      "cell_type": "code",
      "metadata": {
        "id": "P6QTZq24vNGz"
      },
      "source": [
        "library(Hmisc)\n",
        "train$Age <- impute(train$Age, median)"
      ],
      "execution_count": null,
      "outputs": []
    },
    {
      "cell_type": "code",
      "metadata": {
        "id": "4VYjGpBq0dbo"
      },
      "source": [
        "train %>% summary()"
      ],
      "execution_count": null,
      "outputs": []
    },
    {
      "cell_type": "code",
      "metadata": {
        "id": "tivXsaif3NS6"
      },
      "source": [
        "train <- train %>% na.omit()"
      ],
      "execution_count": null,
      "outputs": []
    },
    {
      "cell_type": "code",
      "metadata": {
        "id": "t08Gixc-ESqw"
      },
      "source": [
        "train %>% summary()"
      ],
      "execution_count": null,
      "outputs": []
    },
    {
      "cell_type": "markdown",
      "metadata": {
        "id": "MuMWArUy_sAw"
      },
      "source": [
        "* **train을 이용한 SVM 모델 생성**"
      ]
    },
    {
      "cell_type": "code",
      "metadata": {
        "id": "82IfwdofFAq0"
      },
      "source": [
        "tuned <- tune.svm(Survived ~ ., data = train, gamma = 10^(-8:1), cost = 1:30)\n",
        "tune_summary <- summary(tuned)\n",
        "tune_summary"
      ],
      "execution_count": null,
      "outputs": []
    },
    {
      "cell_type": "code",
      "metadata": {
        "id": "UjfFVD30_l2j"
      },
      "source": [
        "tuned_l <- tune.svm(Survived ~ ., data = train, cost = 8^(-10:1), kernel = \"linear\")\n",
        "tune_summary_l <- summary(tuned_l)\n",
        "tune_summary_l"
      ],
      "execution_count": null,
      "outputs": []
    },
    {
      "cell_type": "code",
      "metadata": {
        "id": "OAufIF2CSBMj"
      },
      "source": [
        "best_parameter <- tune_summary$best.parameters\n",
        "best_parameter # best_parameter[1,1] == gamma / best_parameter[1,2] == cost"
      ],
      "execution_count": null,
      "outputs": []
    },
    {
      "cell_type": "code",
      "metadata": {
        "id": "-Mbr45Zc_nV0"
      },
      "source": [
        "best_parameter_l <- tune_summary_l$best.parameters\n",
        "best_parameter_l # best_parameter[1,1] == cost"
      ],
      "execution_count": null,
      "outputs": []
    },
    {
      "cell_type": "code",
      "metadata": {
        "id": "6imrPWxySEx5"
      },
      "source": [
        "svm_tune <- svm(Survived ~ ., data = train, type = \"C-classification\", kernel = \"radial\",\n",
        " gamma = best_parameter[1,1], cost = best_parameter[1,2])"
      ],
      "execution_count": null,
      "outputs": []
    },
    {
      "cell_type": "code",
      "metadata": {
        "id": "t7bznSgV_KCI"
      },
      "source": [
        "svm_linear <- svm(Survived ~ ., data = train, type = \"C-classification\", kernel = \"linear\",\n",
        " cost = best_parameter[1,1])"
      ],
      "execution_count": null,
      "outputs": []
    },
    {
      "cell_type": "markdown",
      "metadata": {
        "id": "vHdOojum5ttT"
      },
      "source": [
        "* 생성한 2개의 SVM 모델을 이용하여 kaggle에 제출 및 평가받기"
      ]
    },
    {
      "cell_type": "code",
      "metadata": {
        "id": "DPOdsGeF5hc_"
      },
      "source": [
        "test <- read_csv(\"https://raw.githubusercontent.com/Jin0331/TA/master/data/titanic/test.csv\")\n",
        "test %>% summary()"
      ],
      "execution_count": null,
      "outputs": []
    },
    {
      "cell_type": "markdown",
      "metadata": {
        "id": "QVF_LY_m6Z2G"
      },
      "source": [
        "* NA 값 추정(median)"
      ]
    },
    {
      "cell_type": "code",
      "metadata": {
        "id": "D_R839Dq5_x3"
      },
      "source": [
        "test$Age <- impute(test$Age, median)\n",
        "test$Fare <- impute(test$Age, median)\n",
        "test %>% summary()"
      ],
      "execution_count": null,
      "outputs": []
    },
    {
      "cell_type": "markdown",
      "metadata": {
        "id": "7Zg-lDK96c87"
      },
      "source": [
        "* 범주형 변수"
      ]
    },
    {
      "cell_type": "code",
      "metadata": {
        "id": "DsOkG9zS6Lbn"
      },
      "source": [
        "test <- test %>% \n",
        " select(-Name, -Cabin, -Ticket) %>% mutate_at(c(\"Sex\",\"Embarked\", \"Pclass\"), factor)\n",
        "summary(test)"
      ],
      "execution_count": null,
      "outputs": []
    },
    {
      "cell_type": "markdown",
      "metadata": {
        "id": "edngjPnL68t_"
      },
      "source": [
        "* 예측(model_grid 모델, model_linear)"
      ]
    },
    {
      "cell_type": "code",
      "metadata": {
        "id": "CT6XoDZj6hvO"
      },
      "source": [
        "# model\n",
        "predict_value <- predict(svm_tune, test) %>% tibble(Survived = .)\n",
        "submission1 <- test %>% select(PassengerId) %>% dplyr::bind_cols(., predict_value) %>% \n",
        " write_csv(path = \"submission1.csv\")\n",
        "\n",
        " # model\n",
        "predict_value <- predict(svm_linear, test) %>% tibble(Survived = .)\n",
        "submission1 <- test %>% select(PassengerId) %>% dplyr::bind_cols(., predict_value) %>%\n",
        "  write_csv(path = \"submission2.csv\")"
      ],
      "execution_count": null,
      "outputs": []
    },
    {
      "cell_type": "markdown",
      "metadata": {
        "id": "uZipWtJK8sDV"
      },
      "source": [
        "* https://rpubs.com/mohammedkb/Titanic"
      ]
    },
    {
      "cell_type": "markdown",
      "metadata": {
        "id": "C0Wty8CYu_l_"
      },
      "source": [
        "### Confusion Matrix plot code"
      ]
    },
    {
      "cell_type": "code",
      "metadata": {
        "id": "8qQti-1UkTLM"
      },
      "source": [
        "#https://stackoverflow.com/questions/23891140/r-how-to-visualize-confusion-matrix-using-the-caret-package\n",
        "\n",
        "draw_confusion_matrix <- function(cm) {\n",
        "\n",
        "  total <- sum(cm$table)\n",
        "  res <- as.numeric(cm$table)\n",
        "\n",
        "  # Generate color gradients. Palettes come from RColorBrewer.\n",
        "  greenPalette <- c(\"#F7FCF5\",\"#E5F5E0\",\"#C7E9C0\",\"#A1D99B\",\"#74C476\",\"#41AB5D\",\"#238B45\",\"#006D2C\",\"#00441B\")\n",
        "  redPalette <- c(\"#FFF5F0\",\"#FEE0D2\",\"#FCBBA1\",\"#FC9272\",\"#FB6A4A\",\"#EF3B2C\",\"#CB181D\",\"#A50F15\",\"#67000D\")\n",
        "  getColor <- function (greenOrRed = \"green\", amount = 0) {\n",
        "    if (amount == 0)\n",
        "      return(\"#FFFFFF\")\n",
        "    palette <- greenPalette\n",
        "    if (greenOrRed == \"red\")\n",
        "      palette <- redPalette\n",
        "    colorRampPalette(palette)(100)[10 + ceiling(90 * amount / total)]\n",
        "  }\n",
        "\n",
        "  # set the basic layout\n",
        "  layout(matrix(c(1,1,2)))\n",
        "  par(mar=c(2,2,2,2))\n",
        "  plot(c(100, 345), c(300, 450), type = \"n\", xlab=\"\", ylab=\"\", xaxt='n', yaxt='n')\n",
        "  title('CONFUSION MATRIX', cex.main=2)\n",
        "\n",
        "  # create the matrix \n",
        "  classes = colnames(cm$table)\n",
        "  rect(150, 430, 240, 370, col=getColor(\"green\", res[1]))\n",
        "  text(195, 435, classes[1], cex=1.2)\n",
        "  rect(250, 430, 340, 370, col=getColor(\"red\", res[3]))\n",
        "  text(295, 435, classes[2], cex=1.2)\n",
        "  text(125, 370, 'Predicted', cex=1.3, srt=90, font=2)\n",
        "  text(245, 450, 'Actual', cex=1.3, font=2)\n",
        "  rect(150, 305, 240, 365, col=getColor(\"red\", res[2]))\n",
        "  rect(250, 305, 340, 365, col=getColor(\"green\", res[4]))\n",
        "  text(140, 400, classes[1], cex=1.2, srt=90)\n",
        "  text(140, 335, classes[2], cex=1.2, srt=90)\n",
        "\n",
        "  # add in the cm results\n",
        "  text(195, 400, res[1], cex=1.6, font=2, col='white')\n",
        "  text(195, 335, res[2], cex=1.6, font=2, col='white')\n",
        "  text(295, 400, res[3], cex=1.6, font=2, col='white')\n",
        "  text(295, 335, res[4], cex=1.6, font=2, col='white')\n",
        "\n",
        "  # add in the specifics \n",
        "  plot(c(100, 0), c(100, 0), type = \"n\", xlab=\"\", ylab=\"\", main = \"DETAILS\", xaxt='n', yaxt='n')\n",
        "  text(10, 85, names(cm$byClass[1]), cex=1.2, font=2)\n",
        "  text(10, 70, round(as.numeric(cm$byClass[1]), 3), cex=1.2)\n",
        "  text(30, 85, names(cm$byClass[2]), cex=1.2, font=2)\n",
        "  text(30, 70, round(as.numeric(cm$byClass[2]), 3), cex=1.2)\n",
        "  text(50, 85, names(cm$byClass[5]), cex=1.2, font=2)\n",
        "  text(50, 70, round(as.numeric(cm$byClass[5]), 3), cex=1.2)\n",
        "  text(70, 85, names(cm$byClass[6]), cex=1.2, font=2)\n",
        "  text(70, 70, round(as.numeric(cm$byClass[6]), 3), cex=1.2)\n",
        "  text(90, 85, names(cm$byClass[7]), cex=1.2, font=2)\n",
        "  text(90, 70, round(as.numeric(cm$byClass[7]), 3), cex=1.2)\n",
        "\n",
        "  # add in the accuracy information \n",
        "  text(30, 35, names(cm$overall[1]), cex=1.5, font=2)\n",
        "  text(30, 20, round(as.numeric(cm$overall[1]), 3), cex=1.4)\n",
        "  text(70, 35, names(cm$overall[2]), cex=1.5, font=2)\n",
        "  text(70, 20, round(as.numeric(cm$overall[2]), 3), cex=1.4)\n",
        "}"
      ],
      "execution_count": null,
      "outputs": []
    },
    {
      "cell_type": "code",
      "metadata": {
        "id": "WT0LSBoqo2mW"
      },
      "source": [
        ""
      ],
      "execution_count": null,
      "outputs": []
    }
  ]
}
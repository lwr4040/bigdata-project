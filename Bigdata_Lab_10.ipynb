{
  "nbformat": 4,
  "nbformat_minor": 0,
  "metadata": {
    "colab": {
      "name": "Bigdata_Lab_10.ipynb",
      "provenance": [],
      "collapsed_sections": [
        "bvjPzcZroydM"
      ],
      "toc_visible": true
    },
    "kernelspec": {
      "name": "ir",
      "display_name": "R"
    }
  },
  "cells": [
    {
      "cell_type": "markdown",
      "metadata": {
        "id": "NqwIc2xhQqLu"
      },
      "source": [
        "# **빅데이터 개론 Lab 10 - 로지스틱 회귀분석**\n",
        "\n",
        "참고자료 : https://www.notion.so/TA-2689a38b5289413a82671d3956fea103\n",
        "\n",
        "- - -\n",
        "\n",
        "\n"
      ]
    },
    {
      "cell_type": "markdown",
      "metadata": {
        "id": "bvjPzcZroydM"
      },
      "source": [
        "### **<로지스틱 회귀분석>**\n",
        "\n",
        "<img src=\"https://mblogthumb-phinf.pstatic.net/MjAyMDAzMTNfMjUg/MDAxNTg0MDgwNjAzNDQ4.stg44EjmKsUiCbav6P4HPZpzQocCNcN3L6DUwQBC5lgg.25bRo94dsEGXtmZ-Z0CtQhXKlTVkkz3E5VPaq0oNvXog.PNG.y4769/%EC%8A%AC%EB%9D%BC%EC%9D%B4%EB%93%9C4.PNG?type=w800\" width=\"600\" height=\"300\">\n",
        "\n",
        "\n",
        "<br>\n",
        "\n",
        "### **<독립변수(설명변수)와 종속변수(반응변수)의 관계>**\n",
        "\n",
        "<img src=\"https://mblogthumb-phinf.pstatic.net/MjAyMDAzMTNfMTc3/MDAxNTg0MDgwNjAzNDQy.lXx6Ca-LIa0kaeCULOE9wWqUQsZt1KzSOZDKsRpwbREg._lAOicl-kDpLz4SYa9_37_rYCtUNhL_IYFOMYz4v-Hgg.PNG.y4769/%EC%8A%AC%EB%9D%BC%EC%9D%B4%EB%93%9C6.PNG?type=w800\" width=\"600\" height=\"300\">\n",
        "\n",
        "  1. 선형 회귀분석이 말 그대로 독립변수와 종속변수 사이의 선형적 관계를 그래프로 나타낸 것이라면, 로지스틱 회귀분석은 선형이 아닌 \"S\" 곡선의 특성을 나타낸다.\n",
        "\n",
        "  2. 로지스틱 회귀분석의 곡선에서 종속변수의 확률이 0.5보다 크면 어떤 사건이 일어난다고 보고, 0.5보다 작으면 어떤 사건이 일어나지 않을 것이라고 확률적으로 예측해볼 수 있다.\n",
        "\n",
        "\n",
        "\n",
        "\n",
        "```\n",
        "glm(formula, data, family = \"binomial\") \n",
        "# binomial 옵션은 반응변수가 두 가지의 값(이항)만 가진다고 glm에게 알려줌\n",
        "```\n"
      ]
    },
    {
      "cell_type": "code",
      "metadata": {
        "id": "zL-ERaX7ihe6"
      },
      "source": [
        "install.packages(c(\"tidyverse\", \"data.table\", \"caret\", \"e1071\"))\n",
        "library(tidyverse)\n",
        "library(data.table)\n",
        "options(repr.plot.width=10, repr.plot.height=10)"
      ],
      "execution_count": null,
      "outputs": []
    },
    {
      "cell_type": "markdown",
      "metadata": {
        "id": "Bid1xhS0r9OH"
      },
      "source": [
        "#### **A. 예제 1**\n",
        "\n",
        "---\n"
      ]
    },
    {
      "cell_type": "markdown",
      "metadata": {
        "id": "7NjIVZzqc1N5"
      },
      "source": [
        "1. **HR(Human Resource, 인사관리)_연습데이터([링크](https://www.dropbox.com/sh/xx1w2syi768kfu0/AACZgxgo1fcxyDMgv9U-iTz8a?dl=0))**\n",
        "\n",
        "* 변수 설명\n",
        "\n",
        "```\n",
        "satisfaction_level : 직무 만족도\n",
        "last_evaluation : 마지막 평가점수\n",
        "number_project : 진행 프로젝트 수\n",
        "average_monthly_hours : 월평균 근무시간\n",
        "time_spend_company : 근속년수\n",
        "work_accident : 사건사고 여부(0: 없음, 1: 있음, 범주형)\n",
        "left : 이직 여부(0: 잔류, 1: 이직, 범주형)\n",
        "promotion_last_5years: 최근 5년간 승진여부(0: 승진 x, 1: 승진, 범주형)\n",
        "sales : 부서(범주형)\n",
        "salary : 임금 수준(범주형)\n",
        "```\n"
      ]
    },
    {
      "cell_type": "code",
      "metadata": {
        "id": "M0LVsaGdcbDm"
      },
      "source": [
        "hr_DF <- fread(\"https://raw.githubusercontent.com/Jin0331/TA/master/data/HR_comma_sep.csv\", sep = \",\") %>% as_tibble()"
      ],
      "execution_count": null,
      "outputs": []
    },
    {
      "cell_type": "code",
      "metadata": {
        "id": "DROEyYyPUj1C"
      },
      "source": [
        "hr_DF %>% str()"
      ],
      "execution_count": null,
      "outputs": []
    },
    {
      "cell_type": "code",
      "metadata": {
        "id": "NSJx9ofMv1Ba"
      },
      "source": [
        "hr_DF %>% summary()"
      ],
      "execution_count": null,
      "outputs": []
    },
    {
      "cell_type": "markdown",
      "metadata": {
        "id": "TSSxKvv8k4fP"
      },
      "source": [
        "* 범주형 변수 확인"
      ]
    },
    {
      "cell_type": "code",
      "metadata": {
        "id": "cGQoIIMqkcUt"
      },
      "source": [
        "hr_DF$sales %>% unique() # 범주형~"
      ],
      "execution_count": null,
      "outputs": []
    },
    {
      "cell_type": "code",
      "metadata": {
        "id": "PFpOLqmTkzxo"
      },
      "source": [
        "hr_DF$salary %>% unique()"
      ],
      "execution_count": null,
      "outputs": []
    },
    {
      "cell_type": "code",
      "metadata": {
        "id": "YsxyhuWYlEoQ"
      },
      "source": [
        "hr_DF$Work_accident %>% unique()"
      ],
      "execution_count": null,
      "outputs": []
    },
    {
      "cell_type": "code",
      "metadata": {
        "id": "8WXLnVpNlNTT"
      },
      "source": [
        "hr_DF$left %>% unique()"
      ],
      "execution_count": null,
      "outputs": []
    },
    {
      "cell_type": "code",
      "metadata": {
        "id": "4dCZbI5XlR1y"
      },
      "source": [
        "hr_DF$promotion_last_5years %>% unique()"
      ],
      "execution_count": null,
      "outputs": []
    },
    {
      "cell_type": "markdown",
      "metadata": {
        "id": "S-bSCMrklzuc"
      },
      "source": [
        "* mutate를 이용한 데이터 타입 변경(int or chr ---> factor)"
      ]
    },
    {
      "cell_type": "code",
      "metadata": {
        "id": "CnhUVUaLlzL5"
      },
      "source": [
        "hr_DF <- hr_DF %>% mutate_at(`.vars` = c(\"sales\", \"salary\", \"Work_accident\", \"left\", \"promotion_last_5years\"), `.funs` = as.factor)\n",
        "hr_DF %>% str()"
      ],
      "execution_count": null,
      "outputs": []
    },
    {
      "cell_type": "markdown",
      "metadata": {
        "id": "-0KBnrAtsHJI"
      },
      "source": [
        "* **train-test split**"
      ]
    },
    {
      "cell_type": "code",
      "metadata": {
        "id": "V-MB6B_IsOiM"
      },
      "source": [
        "library(caret) \n",
        "set.seed(31)\n",
        "\n",
        "index <- createDataPartition(y = hr_DF$left, p = 0.7, list = FALSE) \n",
        "head(index, 30)"
      ],
      "execution_count": null,
      "outputs": []
    },
    {
      "cell_type": "code",
      "metadata": {
        "id": "HJHG3dZntVUo"
      },
      "source": [
        "train <- hr_DF[index, ]\n",
        "test <- hr_DF[-index, ]\n",
        "\n",
        "train %>% show()\n",
        "test %>% show()"
      ],
      "execution_count": null,
      "outputs": []
    },
    {
      "cell_type": "markdown",
      "metadata": {
        "id": "ciEOgrkNrH73"
      },
      "source": [
        "* **train set을 이용한 glm 모델 생성**"
      ]
    },
    {
      "cell_type": "code",
      "metadata": {
        "id": "j7FJFHFCdr4X"
      },
      "source": [
        "m <- glm(left ~ ., data = train, family = \"binomial\")\n",
        "summary(m)"
      ],
      "execution_count": null,
      "outputs": []
    },
    {
      "cell_type": "markdown",
      "metadata": {
        "id": "SLy66QB_sMDa"
      },
      "source": [
        "* feature selection"
      ]
    },
    {
      "cell_type": "code",
      "metadata": {
        "id": "J4PTwoj4sLmV"
      },
      "source": [
        "m2 <- step(m, direction = \"backward\")"
      ],
      "execution_count": null,
      "outputs": []
    },
    {
      "cell_type": "code",
      "metadata": {
        "id": "33AkYswAsq5F"
      },
      "source": [
        "summary(m2)"
      ],
      "execution_count": null,
      "outputs": []
    },
    {
      "cell_type": "markdown",
      "metadata": {
        "id": "WYQwDgyJRfN8"
      },
      "source": [
        "* sales 제거"
      ]
    },
    {
      "cell_type": "code",
      "metadata": {
        "id": "sNNFGp3HRh8l"
      },
      "source": [
        "m3 <- update(m2, .~. -sales)\n",
        "summary(m3)"
      ],
      "execution_count": null,
      "outputs": []
    },
    {
      "cell_type": "markdown",
      "metadata": {
        "id": "fbbSbvVlrydd"
      },
      "source": [
        "* **예측**"
      ]
    },
    {
      "cell_type": "code",
      "metadata": {
        "id": "FtVJ2ezqrowr"
      },
      "source": [
        "test %>% show()"
      ],
      "execution_count": null,
      "outputs": []
    },
    {
      "cell_type": "code",
      "metadata": {
        "id": "-d4UoeSOuiK7"
      },
      "source": [
        "predict_value <- predict(m3, test, type = \"response\") %>% tibble(predict_value = .)\n",
        "predict_value %>% show()"
      ],
      "execution_count": null,
      "outputs": []
    },
    {
      "cell_type": "code",
      "metadata": {
        "id": "JuWZiiMiaYmw"
      },
      "source": [
        "predict_check <- test %>% select(left) %>% dplyr::bind_cols(., predict_value) \n",
        "predict_check %>% show()"
      ],
      "execution_count": null,
      "outputs": []
    },
    {
      "cell_type": "markdown",
      "metadata": {
        "id": "J94_GWyUa07t"
      },
      "source": [
        "* cut-off value 설정\n",
        " - predict_value > 0.5, left 1(이직)\n",
        " - predict_value <= 0.5, left 0(이직 하지 않음)"
      ]
    },
    {
      "cell_type": "code",
      "metadata": {
        "id": "QrI8w69PbEmG"
      },
      "source": [
        "predict_cutoff <- predict_check %>% mutate(predict_value_cutoff = as.factor(ifelse(predict_value > 0.5, 1, 0)))\n",
        "predict_cutoff %>% show()"
      ],
      "execution_count": null,
      "outputs": []
    },
    {
      "cell_type": "markdown",
      "metadata": {
        "id": "PMn8vY5LbnhB"
      },
      "source": [
        "* Confusion Matrix(실제값과 모델에 의한 분류값을 비교하는 테이블)\n",
        "\n",
        "![png](https://github.com/Jin0331/TA/blob/master/image/confusion_m.png?raw=true)\n",
        "\n",
        "https://yamalab.tistory.com/50"
      ]
    },
    {
      "cell_type": "code",
      "metadata": {
        "id": "HBEngM7DcmMb"
      },
      "source": [
        "caret::confusionMatrix(predict_cutoff$left, predict_cutoff$predict_value_cutoff)"
      ],
      "execution_count": null,
      "outputs": []
    },
    {
      "cell_type": "markdown",
      "metadata": {
        "id": "vskPz6Jjdikc"
      },
      "source": [
        "* ROC curve와 AUC\n",
        " - 여기서 하나 주의할 점은, 위에서 cut-off value를 0.5로 하여 분류했다는 것. 이 cut-off value가 중요한 이유는 그 값에 따라 분류가 천차만별이기 때문에, 모든 cut-off value를 고려하여 결과값의 변화를 살펴봐야하는데, 그 방법을 ROC curve라고 한다.\n",
        "\n",
        "![png](https://github.com/Jin0331/TA/blob/master/image/AUC.png?raw=true)"
      ]
    },
    {
      "cell_type": "code",
      "metadata": {
        "id": "SS0KPedCf_8c"
      },
      "source": [
        "install.packages(\"pROC\")"
      ],
      "execution_count": null,
      "outputs": []
    },
    {
      "cell_type": "code",
      "metadata": {
        "id": "waJE1Ef0f73Q"
      },
      "source": [
        "library(\"pROC\")"
      ],
      "execution_count": null,
      "outputs": []
    },
    {
      "cell_type": "code",
      "metadata": {
        "id": "_xiwOUyediGK"
      },
      "source": [
        "roc_c <- roc(predict_cutoff$left, predict_cutoff$predict_value) # 실제정답과 glm 예측된 확률\n",
        "plot.roc(roc_c,   \n",
        "        col=\"royalblue\",  \n",
        "        print.auc=TRUE, \n",
        "        max.auc.polygon=TRUE,   \n",
        "        print.thres=TRUE, print.thres.pch=19, print.thres.col = \"red\",\n",
        "        auc.polygon=TRUE, auc.polygon.col=\"#D1F2EB\")"
      ],
      "execution_count": null,
      "outputs": []
    },
    {
      "cell_type": "code",
      "metadata": {
        "id": "Fcp6COzugWEr"
      },
      "source": [
        "pROC::coords(roc_c, \"best\", ret = \"threshold\", transpose = F)"
      ],
      "execution_count": null,
      "outputs": []
    },
    {
      "cell_type": "markdown",
      "metadata": {
        "id": "2olqZo3cjbKE"
      },
      "source": [
        "* sales를 제거하지 않은 m2 모델과 비교"
      ]
    },
    {
      "cell_type": "code",
      "metadata": {
        "id": "zE5nqcvQjaB4"
      },
      "source": [
        "predict_value_m2 <- predict(m2, test, type = \"response\") %>% tibble(predict_value = .)\n",
        "predict_check_m2 <- test %>% select(left) %>% dplyr::bind_cols(., predict_value_m2) \n",
        "roc_c_m2 <- roc(predict_check_m2$left, predict_check_m2$predict_value)"
      ],
      "execution_count": null,
      "outputs": []
    },
    {
      "cell_type": "code",
      "metadata": {
        "id": "8-TA84sRj3Hv"
      },
      "source": [
        "plot.roc(roc_c,   \n",
        "         col = \"red\",   \n",
        "         print.auc=T, \n",
        "         max.auc.polygon=T,   \n",
        "         print.thres=T, print.thres.pch=19, print.thres.col = \"red\", \n",
        "         auc.polygon=T, auc.polygon.col=\"#D1F2EB\")  \n",
        "\n",
        "plot.roc(roc_c_m2,   \n",
        "         add=T,   # 기본 그래프에 추가할 수 있도록 설정\n",
        "         col=\"blue\",  \n",
        "         print.auc=T, print.auc.adj=c(1.11,1.2),\n",
        "         print.thres=T, print.thres.pch=19, print.thres.col = \"blue\")\n",
        "         \n",
        "legend(\"bottomright\", legend=c(\"m3(-sales)\", \"m2\"), col=c(\"red\", \"blue\"), lwd = 2)  "
      ],
      "execution_count": null,
      "outputs": []
    },
    {
      "cell_type": "markdown",
      "metadata": {
        "id": "XUaaa7ISStc_"
      },
      "source": [
        "- - -\n",
        "\n",
        "#### **B. 예제 2**"
      ]
    },
    {
      "cell_type": "markdown",
      "metadata": {
        "id": "mK3ksBrkxgc_"
      },
      "source": [
        "* https://www.kaggle.com/c/titanic/data\n",
        "\n",
        "**<kaggle의 타이타닉 data>**\n",
        "\n",
        "  * survived : 생존=1, 죽음=0\n",
        "  * pclass : 승객 등급. 1등급=1, 2등급=2, 3등급=3\n",
        "  * sibsp : 함께 탑승한 형제 또는 배우자 수\n",
        "  * parch : 함께 탑승한 부모 또는 자녀 수\n",
        "  * ticket : 티켓 번호\n",
        "  * cabin : 선실 번호\n",
        "  * embarked : 탑승장소 S=Southhampton, C=Cherbourg, Q=Queenstown"
      ]
    },
    {
      "cell_type": "code",
      "metadata": {
        "id": "nWoKtbMKrJ_O",
        "cellView": "both"
      },
      "source": [
        "#@title\n",
        "DF <- fread(\"https://raw.githubusercontent.com/Jin0331/TA/master/data/titanic/train.csv\") %>%\n",
        " as_tibble()"
      ],
      "execution_count": null,
      "outputs": []
    },
    {
      "cell_type": "code",
      "metadata": {
        "id": "FoUcmHWIxf8A",
        "cellView": "both"
      },
      "source": [
        "#@title\n",
        "str(DF)"
      ],
      "execution_count": null,
      "outputs": []
    },
    {
      "cell_type": "code",
      "metadata": {
        "id": "cY1odydB16zG",
        "cellView": "both"
      },
      "source": [
        "#@title\n",
        "DF %>% summary()"
      ],
      "execution_count": null,
      "outputs": []
    },
    {
      "cell_type": "markdown",
      "metadata": {
        "id": "hg-bZnUDozhW"
      },
      "source": [
        "* 범주형 변수 확인"
      ]
    },
    {
      "cell_type": "code",
      "metadata": {
        "id": "i7VgPnfmpX1L",
        "cellView": "both"
      },
      "source": [
        "#@title\n",
        "DF$Survived %>% unique()"
      ],
      "execution_count": null,
      "outputs": []
    },
    {
      "cell_type": "code",
      "metadata": {
        "id": "_FWo2ChPpIez",
        "cellView": "both"
      },
      "source": [
        "#@title\n",
        "DF$Pclass %>% unique()"
      ],
      "execution_count": null,
      "outputs": []
    },
    {
      "cell_type": "code",
      "metadata": {
        "id": "GstNJw_Soybd",
        "cellView": "both"
      },
      "source": [
        "#@title\n",
        "DF$Sex %>% unique()"
      ],
      "execution_count": null,
      "outputs": []
    },
    {
      "cell_type": "code",
      "metadata": {
        "id": "pBhJRwiOo-HA",
        "cellView": "both"
      },
      "source": [
        "#@title\n",
        "DF$Ticket %>% unique()"
      ],
      "execution_count": null,
      "outputs": []
    },
    {
      "cell_type": "code",
      "metadata": {
        "id": "gTws_XTvpC7R",
        "cellView": "both"
      },
      "source": [
        "#@title\n",
        "DF$Embarked %>% unique()"
      ],
      "execution_count": null,
      "outputs": []
    },
    {
      "cell_type": "code",
      "metadata": {
        "id": "D440rnZU2JSb",
        "cellView": "both"
      },
      "source": [
        "#@title\n",
        "DF <- DF %>% \n",
        " select(-PassengerId, -Name, -Cabin, -Ticket) %>% mutate_at(c(\"Survived\",\"Sex\",\"Embarked\"), factor)\n",
        "summary(DF)"
      ],
      "execution_count": null,
      "outputs": []
    },
    {
      "cell_type": "markdown",
      "metadata": {
        "id": "ntcsCge-tBt-"
      },
      "source": [
        "* Hmisc::impute을 이용한 NA 값 대체(평균, 중앙값, 특정 숫자)\n",
        "\n",
        "* https://m.blog.naver.com/PostView.nhn?blogId=tjdudwo93&logNo=221142961499&proxyReferer=https:%2F%2Fwww.google.com%2F"
      ]
    },
    {
      "cell_type": "code",
      "metadata": {
        "id": "P6QTZq24vNGz",
        "cellView": "both"
      },
      "source": [
        "#@title\n",
        "library(Hmisc)\n",
        "DF$Age <- impute(DF$Age, median)"
      ],
      "execution_count": null,
      "outputs": []
    },
    {
      "cell_type": "code",
      "metadata": {
        "id": "4VYjGpBq0dbo",
        "cellView": "both"
      },
      "source": [
        "#@title\n",
        "DF %>% summary()"
      ],
      "execution_count": null,
      "outputs": []
    },
    {
      "cell_type": "markdown",
      "metadata": {
        "id": "Ve4djNW74KeC"
      },
      "source": [
        "* train / test 분리"
      ]
    },
    {
      "cell_type": "code",
      "metadata": {
        "id": "TAZz5tMa4NWo",
        "cellView": "both"
      },
      "source": [
        "#@title\n",
        "index <- createDataPartition(y = DF$Survived, p = 0.7, list = FALSE)\n",
        "train <- DF[index, ]\n",
        "test <- DF[-index, ]\n",
        "\n",
        "train %>% show()\n",
        "test %>% show()"
      ],
      "execution_count": null,
      "outputs": []
    },
    {
      "cell_type": "markdown",
      "metadata": {
        "id": "MuMWArUy_sAw"
      },
      "source": [
        "* **train을 이용한 glm 모델 생성**"
      ]
    },
    {
      "cell_type": "code",
      "metadata": {
        "id": "mDJZEgS7dox6",
        "cellView": "both"
      },
      "source": [
        "#@title\n",
        "m <- glm(Survived ~ ., data = train, family = \"binomial\")\n",
        "summary(m)"
      ],
      "execution_count": null,
      "outputs": []
    },
    {
      "cell_type": "markdown",
      "metadata": {
        "id": "FoMfyYOVAY6N"
      },
      "source": [
        "* **유의하지 않은 설명변수 제거(step 이용)**"
      ]
    },
    {
      "cell_type": "code",
      "metadata": {
        "id": "p3jddsqV_5SU",
        "cellView": "both"
      },
      "source": [
        "#@title\n",
        "m2 <- step(m, direction = \"backward\")"
      ],
      "execution_count": null,
      "outputs": []
    },
    {
      "cell_type": "code",
      "metadata": {
        "id": "zR94jZITANvk",
        "cellView": "both"
      },
      "source": [
        "#@title\n",
        "summary(m2)"
      ],
      "execution_count": null,
      "outputs": []
    },
    {
      "cell_type": "markdown",
      "metadata": {
        "id": "ka8h1I5pBDge"
      },
      "source": [
        "* **test를 이용한 예측**"
      ]
    },
    {
      "cell_type": "code",
      "metadata": {
        "id": "-AQJbi-nAuoq",
        "cellView": "both"
      },
      "source": [
        "#@title\n",
        "predict_value <- predict(m2, test, type = \"response\") %>% tibble(predict_value = .)\n",
        "predict_check <- test %>% select(Survived) %>% dplyr::bind_cols(., predict_value) \n",
        "predict_check %>% show()"
      ],
      "execution_count": null,
      "outputs": []
    },
    {
      "cell_type": "code",
      "metadata": {
        "id": "6wfRgqPTr3tt",
        "cellView": "both"
      },
      "source": [
        "#@title\n",
        "roc <- roc(predict_check$Survived, predict_check$predict_value)\n",
        "plot.roc(roc,   \n",
        "        col=\"royalblue\",  \n",
        "        print.auc=TRUE, \n",
        "        max.auc.polygon=TRUE,   \n",
        "        print.thres=TRUE, print.thres.pch=19, print.thres.col = \"red\",\n",
        "        auc.polygon=TRUE, auc.polygon.col=\"#D1F2EB\")"
      ],
      "execution_count": null,
      "outputs": []
    },
    {
      "cell_type": "code",
      "metadata": {
        "id": "MrZQ9XGC5b7B",
        "cellView": "both"
      },
      "source": [
        "#@title\n",
        "pROC::coords(roc, \"best\", ret = \"threshold\", transpose = F)"
      ],
      "execution_count": null,
      "outputs": []
    },
    {
      "cell_type": "markdown",
      "metadata": {
        "id": "vHdOojum5ttT"
      },
      "source": [
        "* 생성한 모델을 이용하여 kaggle에 제출해보기 ㅎ"
      ]
    },
    {
      "cell_type": "code",
      "metadata": {
        "id": "DPOdsGeF5hc_",
        "cellView": "both"
      },
      "source": [
        "#@title\n",
        "test_kaggle <- fread(\"https://raw.githubusercontent.com/Jin0331/TA/master/data/titanic/test.csv\", sep = \",\") %>% as_tibble()\n",
        "test_kaggle %>% summary()"
      ],
      "execution_count": null,
      "outputs": []
    },
    {
      "cell_type": "markdown",
      "metadata": {
        "id": "QVF_LY_m6Z2G"
      },
      "source": [
        "* NA 값 추정(median)"
      ]
    },
    {
      "cell_type": "code",
      "metadata": {
        "id": "D_R839Dq5_x3",
        "cellView": "both"
      },
      "source": [
        "#@title\n",
        "test_kaggle$Age <- impute(test_kaggle$Age, median)\n",
        "test_kaggle %>% summary()"
      ],
      "execution_count": null,
      "outputs": []
    },
    {
      "cell_type": "markdown",
      "metadata": {
        "id": "7Zg-lDK96c87"
      },
      "source": [
        "* 범주형 변수"
      ]
    },
    {
      "cell_type": "code",
      "metadata": {
        "id": "DsOkG9zS6Lbn",
        "cellView": "both"
      },
      "source": [
        "#@title\n",
        "test_kaggle <- test_kaggle %>% \n",
        " select(-Name, -Cabin, -Ticket) %>% mutate_at(c(\"Sex\",\"Embarked\"), factor)\n",
        "summary(test_kaggle)"
      ],
      "execution_count": null,
      "outputs": []
    },
    {
      "cell_type": "markdown",
      "metadata": {
        "id": "edngjPnL68t_"
      },
      "source": [
        "* 예측"
      ]
    },
    {
      "cell_type": "code",
      "metadata": {
        "id": "CT6XoDZj6hvO",
        "cellView": "both"
      },
      "source": [
        "#@title\n",
        "predict_value <- predict(m2, test_kaggle, type = \"response\") %>% tibble(Survived = .)\n",
        "predict_cutoff <- test_kaggle %>% select(PassengerId) %>% dplyr::bind_cols(., predict_value) %>%\n",
        " mutate(Survived = ifelse(Survived >= 0.4169107, 1, 0))"
      ],
      "execution_count": null,
      "outputs": []
    },
    {
      "cell_type": "code",
      "metadata": {
        "id": "uHAGIYHb7D4O",
        "cellView": "both"
      },
      "source": [
        "#@title\n",
        "predict_cutoff %>% show()"
      ],
      "execution_count": null,
      "outputs": []
    },
    {
      "cell_type": "code",
      "metadata": {
        "id": "1otSG2CI7sji",
        "cellView": "both"
      },
      "source": [
        "#@title\n",
        "predict_cutoff %>% write_csv(path = \"submission.csv\")"
      ],
      "execution_count": null,
      "outputs": []
    },
    {
      "cell_type": "code",
      "metadata": {
        "id": "s_VARzzCxSRy",
        "cellView": "both"
      },
      "source": [
        "#@title\n"
      ],
      "execution_count": null,
      "outputs": []
    }
  ]
}